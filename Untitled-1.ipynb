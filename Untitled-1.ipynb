{
 "cells": [
  {
   "cell_type": "code",
   "execution_count": 1,
   "metadata": {},
   "outputs": [
    {
     "data": {
      "text/plain": [
       "-121"
      ]
     },
     "execution_count": 1,
     "metadata": {},
     "output_type": "execute_result"
    }
   ],
   "source": [
    "def find_smallest_A(total):\n",
    "    target = 2 * total\n",
    "    smallest_A = float('inf')  # Initialize to a large number\n",
    "    for A in range(-1000, 1000):  # Range for A\n",
    "        for B in range(A + 1, A + 1000):  # Ensure B > A and check a reasonable range\n",
    "            if (B-1) * B - A * (A-1) == target:\n",
    "                if A < smallest_A:\n",
    "                    smallest_A = A\n",
    "    return smallest_A\n",
    "\n",
    "total = 122\n",
    "smallest_A = find_smallest_A(total)\n",
    "smallest_A"
   ]
  },
  {
   "cell_type": "code",
   "execution_count": 10,
   "metadata": {},
   "outputs": [
    {
     "name": "stdout",
     "output_type": "stream",
     "text": [
      "A = 29, B = 33, Sum = 122\n"
     ]
    }
   ],
   "source": [
    "def find_smallest_A(total):\n",
    "    target = 2 * total\n",
    "    for A in range(-100, 100):  # Narrow down the range for better debugging\n",
    "        for B in range(A, A + 20):  # Narrow down the range for better debugging\n",
    "            if (B-1) * B - A * (A-1) == target:\n",
    "                print(f\"A = {A}, B = {B}, Sum = {sum(range(A, B))}\")  # Debug statement\n",
    "                return A\n",
    "\n",
    "total = 122\n",
    "smallest_A = find_smallest_A(total)\n",
    "\n"
   ]
  }
 ],
 "metadata": {
  "kernelspec": {
   "display_name": "Python 3",
   "language": "python",
   "name": "python3"
  },
  "language_info": {
   "codemirror_mode": {
    "name": "ipython",
    "version": 3
   },
   "file_extension": ".py",
   "mimetype": "text/x-python",
   "name": "python",
   "nbconvert_exporter": "python",
   "pygments_lexer": "ipython3",
   "version": "3.11.3"
  },
  "orig_nbformat": 4
 },
 "nbformat": 4,
 "nbformat_minor": 2
}
